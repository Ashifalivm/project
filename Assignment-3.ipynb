{
 "cells": [
  {
   "cell_type": "code",
   "execution_count": 2,
   "id": "de19969a",
   "metadata": {},
   "outputs": [],
   "source": [
    "import pandas as pd\n",
    "import numpy as np\n",
    "import matplotlib.pyplot as plt"
   ]
  },
  {
   "cell_type": "code",
   "execution_count": 4,
   "id": "eae67079",
   "metadata": {},
   "outputs": [],
   "source": [
    "data = pd.read_csv('C:/Users/Ashif/Documents/Python projects/StudentsPerformance.csv')"
   ]
  },
  {
   "cell_type": "code",
   "execution_count": 5,
   "id": "d0134c8a",
   "metadata": {},
   "outputs": [
    {
     "name": "stdout",
     "output_type": "stream",
     "text": [
      "   gender race/ethnicity parental level of education         lunch  \\\n",
      "0  female        group C            some high school  free/reduced   \n",
      "1  female        group B                 high school  free/reduced   \n",
      "2  female        group B            some high school  free/reduced   \n",
      "3  female        group B                some college      standard   \n",
      "4  female        group C                some college  free/reduced   \n",
      "\n",
      "  test preparation course  math score  reading score  writing score  \n",
      "0                    none           0             17             10  \n",
      "1                    none           8             24             23  \n",
      "2                    none          18             32             28  \n",
      "3                    none          11             38             32  \n",
      "4                    none          22             39             33  \n"
     ]
    }
   ],
   "source": [
    "print(data.head())"
   ]
  },
  {
   "cell_type": "code",
   "execution_count": 6,
   "id": "52a93e32",
   "metadata": {},
   "outputs": [
    {
     "name": "stdout",
     "output_type": "stream",
     "text": [
      "female    518\n",
      "male      482\n",
      "Name: gender, dtype: int64\n"
     ]
    }
   ],
   "source": [
    "#Find out how many males and females participated in the test.\n",
    "gender_counts = data['gender'].value_counts()\n",
    "print(gender_counts)"
   ]
  },
  {
   "cell_type": "code",
   "execution_count": 7,
   "id": "1f93004d",
   "metadata": {},
   "outputs": [
    {
     "name": "stdout",
     "output_type": "stream",
     "text": [
      "some college          226\n",
      "associate's degree    222\n",
      "high school           196\n",
      "some high school      179\n",
      "bachelor's degree     118\n",
      "master's degree        59\n",
      "Name: parental level of education, dtype: int64\n"
     ]
    }
   ],
   "source": [
    "#parental level of education\n",
    "par_level_edn = data['parental level of education'].value_counts()\n",
    "print(par_level_edn)"
   ]
  },
  {
   "cell_type": "code",
   "execution_count": 8,
   "id": "4c356719",
   "metadata": {},
   "outputs": [
    {
     "name": "stdout",
     "output_type": "stream",
     "text": [
      "                                math score  reading score  writing score\n",
      "gender test preparation course                                          \n",
      "female completed                 67.108696      77.375000      78.793478\n",
      "       none                      61.320359      69.955090      68.982036\n",
      "male   completed                 72.988506      70.793103      70.339080\n",
      "       none                      66.467532      62.581169      59.551948\n"
     ]
    }
   ],
   "source": [
    "#Most on average for Math, Reading and writing\n",
    "gen_prep_score =data.groupby(['gender','test preparation course'])[['math score','reading score','writing score']].mean()\n",
    "print(gen_prep_score)"
   ]
  },
  {
   "cell_type": "code",
   "execution_count": 9,
   "id": "9dc7c494",
   "metadata": {},
   "outputs": [
    {
     "name": "stdout",
     "output_type": "stream",
     "text": [
      "                                math score  reading score  writing score\n",
      "gender test preparation course                                          \n",
      "female completed                 14.428233      12.695493      12.240788\n",
      "       none                      16.510686      14.636981      15.016497\n",
      "male   completed                 14.039164      13.612420      12.887910\n",
      "       none                      14.335746      13.595718      13.468284\n"
     ]
    }
   ],
   "source": [
    "#Variation for math, reading and writing\n",
    "gen_prep_score =data.groupby(['gender','test preparation course'])[['math score','reading score','writing score']].std()\n",
    "print(gen_prep_score)"
   ]
  },
  {
   "cell_type": "code",
   "execution_count": 19,
   "id": "99ea7504",
   "metadata": {
    "scrolled": true
   },
   "outputs": [
    {
     "name": "stdout",
     "output_type": "stream",
     "text": [
      "     gender  math score\n",
      "999    male         105\n",
      "517  female         105\n",
      "998    male         105\n",
      "997    male         105\n",
      "996    male         105\n",
      "..      ...         ...\n",
      "862    male          83\n",
      "863    male          83\n",
      "865    male          83\n",
      "431  female          83\n",
      "430  female          83\n",
      "\n",
      "[231 rows x 2 columns]\n"
     ]
    },
    {
     "name": "stderr",
     "output_type": "stream",
     "text": [
      "C:\\Users\\Ashif\\AppData\\Local\\Temp\\ipykernel_6468\\300820406.py:7: SettingWithCopyWarning: \n",
      "A value is trying to be set on a copy of a slice from a DataFrame.\n",
      "Try using .loc[row_indexer,col_indexer] = value instead\n",
      "\n",
      "See the caveats in the documentation: https://pandas.pydata.org/pandas-docs/stable/user_guide/indexing.html#returning-a-view-versus-a-copy\n",
      "  top_math_student['math score'] +=5\n"
     ]
    }
   ],
   "source": [
    "#Bonus Point to the top 25% of students based on their math score\n",
    "#Calculate 25th percentile of math score\n",
    "math_25_Percentile = data['math score'].quantile(0.75)\n",
    "#Filter the top 25% of studentsbased on their math score\n",
    "top_math_student = data[data['math score'] >math_25_Percentile]\n",
    "#Assign Bonus Points to the top 25% students\n",
    "top_math_student['math score'] +=5\n",
    "#print the updated score for top math students\n",
    "print(top_math_student[['gender','math score']].sort_values('math score', ascending=False))"
   ]
  },
  {
   "cell_type": "code",
   "execution_count": null,
   "id": "540f8899",
   "metadata": {},
   "outputs": [],
   "source": []
  }
 ],
 "metadata": {
  "kernelspec": {
   "display_name": "Python 3 (ipykernel)",
   "language": "python",
   "name": "python3"
  },
  "language_info": {
   "codemirror_mode": {
    "name": "ipython",
    "version": 3
   },
   "file_extension": ".py",
   "mimetype": "text/x-python",
   "name": "python",
   "nbconvert_exporter": "python",
   "pygments_lexer": "ipython3",
   "version": "3.10.9"
  }
 },
 "nbformat": 4,
 "nbformat_minor": 5
}
